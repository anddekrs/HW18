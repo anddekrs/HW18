{
 "cells": [
  {
   "cell_type": "markdown",
   "metadata": {},
   "source": [
    "Практический проект по написанию собственного парсера.\n",
    "Цель: В этом домашнем задании вам предстоит обойти все ловушки серверов, пробраться сквозь страницы html-кода и собрать себе свой собственный датасет.\n",
    "По аналогии с занятием, возьмите интересующий вас сайт, на котором можно пособирать какие-то данные (и при этом API не предоставляется).\n",
    "\n",
    "Напишите свой парсер, который будет бегать по страничкам и автоматически что-то собирать.\n",
    "\n",
    "В качестве потенциальных целей для парсинга можно взять какие-нибудь блоги, выкачать оттуда публикации, авторов, число просмотром и комментариев. Можно посмотреть новостные ресурсы и скачать новостные статьи с их мета-информацией. Или любой другой интересный вам сайт.\n",
    "\n",
    "Не забывайте, что парсинг - это ответственное мероприятие, поэтому не бомбардируйте несчастные сайты слишком частыми запросами (можно ограничить число запросов в секунду при помощи time.sleep(0.3), вставленного в теле цикла)\n",
    "Критерии оценки: Успешно собранные данные - 10 из 10!"
   ]
  },
  {
   "cell_type": "code",
   "execution_count": 1,
   "metadata": {},
   "outputs": [],
   "source": [
    "import requests\n",
    "import re\n",
    "from bs4 import BeautifulSoup\n",
    "import pandas as pd\n",
    "import time\n",
    "import sys\n",
    "import datetime\n",
    "\n",
    "from tqdm import tqdm_notebook"
   ]
  },
  {
   "cell_type": "code",
   "execution_count": 2,
   "metadata": {},
   "outputs": [],
   "source": [
    "def ngs24newsarticle(link):\n",
    "    now = datetime.datetime.now()\n",
    "    page = requests.get(link)\n",
    "    page = page.content\n",
    "    page = BeautifulSoup(page, 'lxml')\n",
    "    headline = page.find('h2', attrs={'itemprop':'headline'}).find('span').text\n",
    "    altheadline = page.find('p', attrs={'itemprop':'alternativeHeadline'}).find('span').text\n",
    "    txtnewsfull = page.find('div', attrs={'itemprop':'articleBody'}).text.replace('\\xa0',' ')\n",
    "    datenews = page.find('div', attrs={'itemprop':'datePublished'}).get('datetime')\n",
    "    views = int(page.find('div', attrs={'title':'просмотры'}).text.replace('\\xa0',''))\n",
    "    comments = int(page.find('a', attrs={'title':'комментарии'}).text.replace('\\xa0',''))\n",
    "    rating = page.find('div', attrs={'itemprop':'aggregateRating'}).text.replace('оцените материал','').strip()\n",
    "    rubric = page.find('div', attrs={'class':'F1cd'}).text.strip()\n",
    "    tags = page.find('div', attrs={'class':'KBarf'}).findAll('span')\n",
    "    tagsstr = ''\n",
    "    for each in tags:\n",
    "        tagsstr += '#'+each.text+', '\n",
    "    return  {\n",
    "        'parced' : now.strftime(\"%Y-%m-%d %H:%M:%S\"),\n",
    "        'link' : link,\n",
    "        'datenews': datenews, \n",
    "        'headline': headline, \n",
    "        'altheadline': altheadline, \n",
    "        'txtnewsfull' : txtnewsfull,\n",
    "        'views': views,\n",
    "        'comments': comments,\n",
    "        'rating' : rating,\n",
    "        'rubric' : rubric,\n",
    "        'tags' : tagsstr.strip()\n",
    "        }\n"
   ]
  },
  {
   "cell_type": "code",
   "execution_count": 3,
   "metadata": {},
   "outputs": [
    {
     "name": "stdout",
     "output_type": "stream",
     "text": [
      "{'parced': '2020-02-08 13:52:32', 'link': 'https://ngs24.ru/news/more//66484084/', 'datenews': '2020-02-07 13:41:04', 'headline': 'Главный прокурор края уходит в отставку', 'altheadline': 'Источник NGS24.RU в прокуратуре сообщает об отставке Михаила Савчина', 'txtnewsfull': 'Михаил Савчин возглавлял краевую прокуратуру с 2012 года Фото: krasproc.ruИсточник в прокуратуре Красноярска сообщил об отставке главного прокурора края Михаила Савчина. Официального ответа ведомства на момент написания новости получить пока не удалось.До своего назначения в Красноярский край Михаил Савчин работал прокурором в Чечне до 2012 года.Незадолго до отставки Савчин отстранил от работы прокурора Норильска Хаважа Гутаева, подозреваемого во взяточничестве, тем не менее Гутаев сохранил зарплату и доплаты за выслугу лет на момент отстранения. Ряд СМИ связывает отставку Савчина с Гутаевым, которого тот якобы покровительствовал.Прокуратура края под руководством Михаила Савчина также запомнилась скандалом с основателем проекта «Красноярск.Небо», а также с отстранением от должности главы Счетной палаты Татьяны Давыденко.', 'views': 5371, 'comments': 12, 'rating': 'ЛАЙК9СМЕХ2УДИВЛЕНИЕ0ГНЕВ1ПЕЧАЛЬ1', 'rubric': 'Работа', 'tags': '#отставка прокурора,'}\n",
      "{'parced': '2020-02-08 13:52:33', 'link': 'https://ngs24.ru/news/more//66483727/', 'datenews': '2020-02-07 09:01:38', 'headline': 'Едкую дымку сдуло из города. Воздух в городе почти чистый', 'altheadline': 'В Красноярске вновь есть чем дышать', 'txtnewsfull': 'Едкий запах и дымку сдуло из города. Нам опять есть чем дышать Фото: Артём Ленц После двух дней в едком тумане в Красноярск наконец-то вернулся чистый воздух. Сегодня датчики волонтеров Nebo.live показывают, что лишь местами есть небольшое загрязнение, но в целом можно свободно дышать. Фото: Nebo.liveДанные подтверждает карта ученых СО РАН, единственное сильное загрязнение наблюдается в Солонцах. Фото: СО РАН Плохой воздух в Красноярске держался почти всю неделю, но особенно это было заметно в воскресенье и в последние два дня. При этом режим НМУ ни разу не объявляли.', 'views': 1486, 'comments': 32, 'rating': 'ЛАЙК2СМЕХ1УДИВЛЕНИЕ0ГНЕВ0ПЕЧАЛЬ0', 'rubric': 'Город', 'tags': '#НМУ, #грязный воздух,'}\n"
     ]
    }
   ],
   "source": [
    "testlink = ['https://ngs24.ru/news/more//66484084/', 'https://ngs24.ru/news/more//66483727/']\n",
    "for link in testlink:\n",
    "    print(ngs24newsarticle(link))"
   ]
  },
  {
   "cell_type": "code",
   "execution_count": 4,
   "metadata": {},
   "outputs": [],
   "source": [
    "def ngspagelinks(page_number):\n",
    "    main_url = allngsnews\n",
    "    news_page = requests.get(main_url+str(page_number))\n",
    "    news_page = news_page.content\n",
    "    news_page = BeautifulSoup(news_page, 'lxml')\n",
    "    news_links = news_page.findAll('h2', attrs = {'class' : 'K7cb'})\n",
    "    news_links = [link.find('a').get('href') for link in news_links]\n",
    "    return news_links"
   ]
  },
  {
   "cell_type": "code",
   "execution_count": 5,
   "metadata": {},
   "outputs": [
    {
     "data": {
      "application/vnd.jupyter.widget-view+json": {
       "model_id": "b5c33cb999b9462dbe5e0071889fde2a",
       "version_major": 2,
       "version_minor": 0
      },
      "text/plain": [
       "HBox(children=(IntProgress(value=0, max=20), HTML(value='')))"
      ]
     },
     "metadata": {},
     "output_type": "display_data"
    },
    {
     "data": {
      "application/vnd.jupyter.widget-view+json": {
       "model_id": "",
       "version_major": 2,
       "version_minor": 0
      },
      "text/plain": [
       "HBox(children=(IntProgress(value=0, max=40), HTML(value='')))"
      ]
     },
     "metadata": {},
     "output_type": "display_data"
    },
    {
     "data": {
      "application/vnd.jupyter.widget-view+json": {
       "model_id": "",
       "version_major": 2,
       "version_minor": 0
      },
      "text/plain": [
       "HBox(children=(IntProgress(value=0, max=40), HTML(value='')))"
      ]
     },
     "metadata": {},
     "output_type": "display_data"
    },
    {
     "data": {
      "application/vnd.jupyter.widget-view+json": {
       "model_id": "",
       "version_major": 2,
       "version_minor": 0
      },
      "text/plain": [
       "HBox(children=(IntProgress(value=0, max=40), HTML(value='')))"
      ]
     },
     "metadata": {},
     "output_type": "display_data"
    },
    {
     "data": {
      "application/vnd.jupyter.widget-view+json": {
       "model_id": "",
       "version_major": 2,
       "version_minor": 0
      },
      "text/plain": [
       "HBox(children=(IntProgress(value=0, max=40), HTML(value='')))"
      ]
     },
     "metadata": {},
     "output_type": "display_data"
    },
    {
     "data": {
      "application/vnd.jupyter.widget-view+json": {
       "model_id": "",
       "version_major": 2,
       "version_minor": 0
      },
      "text/plain": [
       "HBox(children=(IntProgress(value=0, max=40), HTML(value='')))"
      ]
     },
     "metadata": {},
     "output_type": "display_data"
    },
    {
     "data": {
      "application/vnd.jupyter.widget-view+json": {
       "model_id": "",
       "version_major": 2,
       "version_minor": 0
      },
      "text/plain": [
       "HBox(children=(IntProgress(value=0, max=40), HTML(value='')))"
      ]
     },
     "metadata": {},
     "output_type": "display_data"
    },
    {
     "data": {
      "application/vnd.jupyter.widget-view+json": {
       "model_id": "",
       "version_major": 2,
       "version_minor": 0
      },
      "text/plain": [
       "HBox(children=(IntProgress(value=0, max=40), HTML(value='')))"
      ]
     },
     "metadata": {},
     "output_type": "display_data"
    },
    {
     "data": {
      "application/vnd.jupyter.widget-view+json": {
       "model_id": "",
       "version_major": 2,
       "version_minor": 0
      },
      "text/plain": [
       "HBox(children=(IntProgress(value=0, max=40), HTML(value='')))"
      ]
     },
     "metadata": {},
     "output_type": "display_data"
    },
    {
     "data": {
      "application/vnd.jupyter.widget-view+json": {
       "model_id": "",
       "version_major": 2,
       "version_minor": 0
      },
      "text/plain": [
       "HBox(children=(IntProgress(value=0, max=40), HTML(value='')))"
      ]
     },
     "metadata": {},
     "output_type": "display_data"
    },
    {
     "data": {
      "application/vnd.jupyter.widget-view+json": {
       "model_id": "",
       "version_major": 2,
       "version_minor": 0
      },
      "text/plain": [
       "HBox(children=(IntProgress(value=0, max=40), HTML(value='')))"
      ]
     },
     "metadata": {},
     "output_type": "display_data"
    },
    {
     "data": {
      "application/vnd.jupyter.widget-view+json": {
       "model_id": "",
       "version_major": 2,
       "version_minor": 0
      },
      "text/plain": [
       "HBox(children=(IntProgress(value=0, max=40), HTML(value='')))"
      ]
     },
     "metadata": {},
     "output_type": "display_data"
    },
    {
     "data": {
      "application/vnd.jupyter.widget-view+json": {
       "model_id": "",
       "version_major": 2,
       "version_minor": 0
      },
      "text/plain": [
       "HBox(children=(IntProgress(value=0, max=40), HTML(value='')))"
      ]
     },
     "metadata": {},
     "output_type": "display_data"
    },
    {
     "data": {
      "application/vnd.jupyter.widget-view+json": {
       "model_id": "",
       "version_major": 2,
       "version_minor": 0
      },
      "text/plain": [
       "HBox(children=(IntProgress(value=0, max=40), HTML(value='')))"
      ]
     },
     "metadata": {},
     "output_type": "display_data"
    },
    {
     "data": {
      "application/vnd.jupyter.widget-view+json": {
       "model_id": "",
       "version_major": 2,
       "version_minor": 0
      },
      "text/plain": [
       "HBox(children=(IntProgress(value=0, max=40), HTML(value='')))"
      ]
     },
     "metadata": {},
     "output_type": "display_data"
    },
    {
     "data": {
      "application/vnd.jupyter.widget-view+json": {
       "model_id": "",
       "version_major": 2,
       "version_minor": 0
      },
      "text/plain": [
       "HBox(children=(IntProgress(value=0, max=40), HTML(value='')))"
      ]
     },
     "metadata": {},
     "output_type": "display_data"
    },
    {
     "data": {
      "application/vnd.jupyter.widget-view+json": {
       "model_id": "",
       "version_major": 2,
       "version_minor": 0
      },
      "text/plain": [
       "HBox(children=(IntProgress(value=0, max=40), HTML(value='')))"
      ]
     },
     "metadata": {},
     "output_type": "display_data"
    },
    {
     "data": {
      "application/vnd.jupyter.widget-view+json": {
       "model_id": "",
       "version_major": 2,
       "version_minor": 0
      },
      "text/plain": [
       "HBox(children=(IntProgress(value=0, max=40), HTML(value='')))"
      ]
     },
     "metadata": {},
     "output_type": "display_data"
    },
    {
     "data": {
      "application/vnd.jupyter.widget-view+json": {
       "model_id": "",
       "version_major": 2,
       "version_minor": 0
      },
      "text/plain": [
       "HBox(children=(IntProgress(value=0, max=40), HTML(value='')))"
      ]
     },
     "metadata": {},
     "output_type": "display_data"
    },
    {
     "data": {
      "application/vnd.jupyter.widget-view+json": {
       "model_id": "",
       "version_major": 2,
       "version_minor": 0
      },
      "text/plain": [
       "HBox(children=(IntProgress(value=0, max=40), HTML(value='')))"
      ]
     },
     "metadata": {},
     "output_type": "display_data"
    },
    {
     "data": {
      "application/vnd.jupyter.widget-view+json": {
       "model_id": "",
       "version_major": 2,
       "version_minor": 0
      },
      "text/plain": [
       "HBox(children=(IntProgress(value=0, max=40), HTML(value='')))"
      ]
     },
     "metadata": {},
     "output_type": "display_data"
    },
    {
     "name": "stdout",
     "output_type": "stream",
     "text": [
      "\n"
     ]
    }
   ],
   "source": [
    "allngsnews = 'https://ngs24.ru/news/all/?page'\n",
    "maxpages = 20\n",
    "ngsnews = pd.DataFrame(columns=['parced',\n",
    "                            'link',\n",
    "                            'datenews', \n",
    "                            'headline', \n",
    "                            'altheadline', \n",
    "                            'txtnewsfull' ,\n",
    "                            'views',\n",
    "                            'comments',\n",
    "                            'rating',\n",
    "                            'rubric',\n",
    "                            'tags'])\n",
    "\n",
    "for page in tqdm_notebook(range(maxpages)):\n",
    "    news_links = ngspagelinks(page)\n",
    "    news_links = ['https://ngs24.ru'+ link for link in news_links]\n",
    "    for news_link in tqdm_notebook(news_links, leave=False):\n",
    "        try:\n",
    "            sub_page_data = ngs24newsarticle(news_link)\n",
    "            ngsnews = ngsnews.append(sub_page_data, ignore_index=True)\n",
    "            #time.sleep(0.2)\n",
    "        except:\n",
    "            pass\n"
   ]
  },
  {
   "cell_type": "code",
   "execution_count": 7,
   "metadata": {},
   "outputs": [
    {
     "data": {
      "text/html": [
       "<div>\n",
       "<style scoped>\n",
       "    .dataframe tbody tr th:only-of-type {\n",
       "        vertical-align: middle;\n",
       "    }\n",
       "\n",
       "    .dataframe tbody tr th {\n",
       "        vertical-align: top;\n",
       "    }\n",
       "\n",
       "    .dataframe thead th {\n",
       "        text-align: right;\n",
       "    }\n",
       "</style>\n",
       "<table border=\"1\" class=\"dataframe\">\n",
       "  <thead>\n",
       "    <tr style=\"text-align: right;\">\n",
       "      <th></th>\n",
       "      <th>0</th>\n",
       "      <th>1</th>\n",
       "      <th>2</th>\n",
       "      <th>3</th>\n",
       "      <th>4</th>\n",
       "    </tr>\n",
       "  </thead>\n",
       "  <tbody>\n",
       "    <tr>\n",
       "      <th>parced</th>\n",
       "      <td>2020-02-08 13:52:56</td>\n",
       "      <td>2020-02-08 13:52:56</td>\n",
       "      <td>2020-02-08 13:52:58</td>\n",
       "      <td>2020-02-08 13:52:59</td>\n",
       "      <td>2020-02-08 13:53:01</td>\n",
       "    </tr>\n",
       "    <tr>\n",
       "      <th>link</th>\n",
       "      <td>https://ngs24.ru/news/more/66485668/</td>\n",
       "      <td>https://ngs24.ru/news/more/66485626/</td>\n",
       "      <td>https://ngs24.ru/news/more/66485617/</td>\n",
       "      <td>https://ngs24.ru/news/more/66485605/</td>\n",
       "      <td>https://ngs24.ru/news/more/66485599/</td>\n",
       "    </tr>\n",
       "    <tr>\n",
       "      <th>datenews</th>\n",
       "      <td>2020-02-08 12:42:26</td>\n",
       "      <td>2020-02-08 11:32:39</td>\n",
       "      <td>2020-02-08 10:42:55</td>\n",
       "      <td>2020-02-08 10:23:29</td>\n",
       "      <td>2020-02-08 09:34:17</td>\n",
       "    </tr>\n",
       "    <tr>\n",
       "      <th>headline</th>\n",
       "      <td>Красноярская активистка направила обращение в ...</td>\n",
       "      <td>Молодые красноярцы сняли квартиру и оборудовал...</td>\n",
       "      <td>С ж/д моста на Свободном оторвалась балка и на...</td>\n",
       "      <td>«Это грубое вторжение человека в экологию»: же...</td>\n",
       "      <td>Красноярец прошелся по капоту припаркованного ...</td>\n",
       "    </tr>\n",
       "    <tr>\n",
       "      <th>altheadline</th>\n",
       "      <td>Ответ аппарата правительства ее рассмешил</td>\n",
       "      <td>Им грозит 20 лет колонии</td>\n",
       "      <td>На месте работают сотрудники ГИБДД</td>\n",
       "      <td>Она предложила лечить его гомеопатией</td>\n",
       "      <td>Машина стояла припаркованной вплотную к стене</td>\n",
       "    </tr>\n",
       "    <tr>\n",
       "      <th>txtnewsfull</th>\n",
       "      <td>Лаборатория должна появиться в горах в 6 км от...</td>\n",
       "      <td>Найденная коробка со всякими веществами и один...</td>\n",
       "      <td>Балка опасно повисла над проезжей частью Фото:...</td>\n",
       "      <td>Наталья Толоконская — врач в Новосибирском гом...</td>\n",
       "      <td>Задуманное молодому человеку удалось осуществи...</td>\n",
       "    </tr>\n",
       "    <tr>\n",
       "      <th>views</th>\n",
       "      <td>703</td>\n",
       "      <td>1863</td>\n",
       "      <td>1905</td>\n",
       "      <td>1192</td>\n",
       "      <td>3181</td>\n",
       "    </tr>\n",
       "    <tr>\n",
       "      <th>comments</th>\n",
       "      <td>9</td>\n",
       "      <td>4</td>\n",
       "      <td>7</td>\n",
       "      <td>16</td>\n",
       "      <td>14</td>\n",
       "    </tr>\n",
       "    <tr>\n",
       "      <th>rating</th>\n",
       "      <td>ЛАЙК1СМЕХ1УДИВЛЕНИЕ0ГНЕВ0ПЕЧАЛЬ0</td>\n",
       "      <td>ЛАЙК0СМЕХ0УДИВЛЕНИЕ0ГНЕВ0ПЕЧАЛЬ0</td>\n",
       "      <td>ЛАЙК0СМЕХ0УДИВЛЕНИЕ1ГНЕВ2ПЕЧАЛЬ0</td>\n",
       "      <td>ЛАЙК2СМЕХ0УДИВЛЕНИЕ0ГНЕВ0ПЕЧАЛЬ0</td>\n",
       "      <td>ЛАЙК8СМЕХ3УДИВЛЕНИЕ1ГНЕВ2ПЕЧАЛЬ1</td>\n",
       "    </tr>\n",
       "    <tr>\n",
       "      <th>rubric</th>\n",
       "      <td>Город</td>\n",
       "      <td>Криминал</td>\n",
       "      <td>Происшествия</td>\n",
       "      <td>Здоровье  Китайский коронавирус</td>\n",
       "      <td>Дороги и транспорт</td>\n",
       "    </tr>\n",
       "    <tr>\n",
       "      <th>tags</th>\n",
       "      <td>#Наталия Подоляк, #ядерное хранилище, #Краснод...</td>\n",
       "      <td>#нарколаборатория,</td>\n",
       "      <td>#балка, #ЧП,</td>\n",
       "      <td>#гомеопатия, #Наталья Толоконская,</td>\n",
       "      <td>#парковка,</td>\n",
       "    </tr>\n",
       "  </tbody>\n",
       "</table>\n",
       "</div>"
      ],
      "text/plain": [
       "                                                             0  \\\n",
       "parced                                     2020-02-08 13:52:56   \n",
       "link                      https://ngs24.ru/news/more/66485668/   \n",
       "datenews                                   2020-02-08 12:42:26   \n",
       "headline     Красноярская активистка направила обращение в ...   \n",
       "altheadline          Ответ аппарата правительства ее рассмешил   \n",
       "txtnewsfull  Лаборатория должна появиться в горах в 6 км от...   \n",
       "views                                                      703   \n",
       "comments                                                     9   \n",
       "rating                        ЛАЙК1СМЕХ1УДИВЛЕНИЕ0ГНЕВ0ПЕЧАЛЬ0   \n",
       "rubric                                                   Город   \n",
       "tags         #Наталия Подоляк, #ядерное хранилище, #Краснод...   \n",
       "\n",
       "                                                             1  \\\n",
       "parced                                     2020-02-08 13:52:56   \n",
       "link                      https://ngs24.ru/news/more/66485626/   \n",
       "datenews                                   2020-02-08 11:32:39   \n",
       "headline     Молодые красноярцы сняли квартиру и оборудовал...   \n",
       "altheadline                           Им грозит 20 лет колонии   \n",
       "txtnewsfull  Найденная коробка со всякими веществами и один...   \n",
       "views                                                     1863   \n",
       "comments                                                     4   \n",
       "rating                        ЛАЙК0СМЕХ0УДИВЛЕНИЕ0ГНЕВ0ПЕЧАЛЬ0   \n",
       "rubric                                                Криминал   \n",
       "tags                                        #нарколаборатория,   \n",
       "\n",
       "                                                             2  \\\n",
       "parced                                     2020-02-08 13:52:58   \n",
       "link                      https://ngs24.ru/news/more/66485617/   \n",
       "datenews                                   2020-02-08 10:42:55   \n",
       "headline     С ж/д моста на Свободном оторвалась балка и на...   \n",
       "altheadline                 На месте работают сотрудники ГИБДД   \n",
       "txtnewsfull  Балка опасно повисла над проезжей частью Фото:...   \n",
       "views                                                     1905   \n",
       "comments                                                     7   \n",
       "rating                        ЛАЙК0СМЕХ0УДИВЛЕНИЕ1ГНЕВ2ПЕЧАЛЬ0   \n",
       "rubric                                            Происшествия   \n",
       "tags                                              #балка, #ЧП,   \n",
       "\n",
       "                                                             3  \\\n",
       "parced                                     2020-02-08 13:52:59   \n",
       "link                      https://ngs24.ru/news/more/66485605/   \n",
       "datenews                                   2020-02-08 10:23:29   \n",
       "headline     «Это грубое вторжение человека в экологию»: же...   \n",
       "altheadline              Она предложила лечить его гомеопатией   \n",
       "txtnewsfull  Наталья Толоконская — врач в Новосибирском гом...   \n",
       "views                                                     1192   \n",
       "comments                                                    16   \n",
       "rating                        ЛАЙК2СМЕХ0УДИВЛЕНИЕ0ГНЕВ0ПЕЧАЛЬ0   \n",
       "rubric                         Здоровье  Китайский коронавирус   \n",
       "tags                        #гомеопатия, #Наталья Толоконская,   \n",
       "\n",
       "                                                             4  \n",
       "parced                                     2020-02-08 13:53:01  \n",
       "link                      https://ngs24.ru/news/more/66485599/  \n",
       "datenews                                   2020-02-08 09:34:17  \n",
       "headline     Красноярец прошелся по капоту припаркованного ...  \n",
       "altheadline      Машина стояла припаркованной вплотную к стене  \n",
       "txtnewsfull  Задуманное молодому человеку удалось осуществи...  \n",
       "views                                                     3181  \n",
       "comments                                                    14  \n",
       "rating                        ЛАЙК8СМЕХ3УДИВЛЕНИЕ1ГНЕВ2ПЕЧАЛЬ1  \n",
       "rubric                                      Дороги и транспорт  \n",
       "tags                                                #парковка,  "
      ]
     },
     "execution_count": 7,
     "metadata": {},
     "output_type": "execute_result"
    }
   ],
   "source": [
    "ngsnews.head().T"
   ]
  },
  {
   "cell_type": "code",
   "execution_count": 9,
   "metadata": {},
   "outputs": [],
   "source": [
    "ngsnews.to_csv('ngsnews.csv',sep=';')"
   ]
  }
 ],
 "metadata": {
  "kernelspec": {
   "display_name": "Python 3",
   "language": "python",
   "name": "python3"
  },
  "language_info": {
   "codemirror_mode": {
    "name": "ipython",
    "version": 3
   },
   "file_extension": ".py",
   "mimetype": "text/x-python",
   "name": "python",
   "nbconvert_exporter": "python",
   "pygments_lexer": "ipython3",
   "version": "3.7.3"
  }
 },
 "nbformat": 4,
 "nbformat_minor": 2
}
